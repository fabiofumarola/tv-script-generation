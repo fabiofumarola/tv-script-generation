{
 "cells": [
  {
   "cell_type": "markdown",
   "metadata": {
    "deletable": true,
    "editable": true
   },
   "source": [
    "# TV Script Generation\n",
    "In this project, you'll generate your own [Simpsons](https://en.wikipedia.org/wiki/The_Simpsons) TV scripts using RNNs.  You'll be using part of the [Simpsons dataset](https://www.kaggle.com/wcukierski/the-simpsons-by-the-data) of scripts from 27 seasons.  The Neural Network you'll build will generate a new TV script for a scene at [Moe's Tavern](https://simpsonswiki.com/wiki/Moe's_Tavern).\n",
    "## Get the Data\n",
    "The data is already provided for you.  You'll be using a subset of the original dataset.  It consists of only the scenes in Moe's Tavern.  This doesn't include other versions of the tavern, like \"Moe's Cavern\", \"Flaming Moe's\", \"Uncle Moe's Family Feed-Bag\", etc.."
   ]
  },
  {
   "cell_type": "code",
   "execution_count": null,
   "metadata": {
    "collapsed": false,
    "deletable": true,
    "editable": true
   },
   "outputs": [],
   "source": [
    "\"\"\"\n",
    "DON'T MODIFY ANYTHING IN THIS CELL\n",
    "\"\"\"\n",
    "import helper\n",
    "\n",
    "data_dir = './data/simpsons/moes_tavern_lines.txt'\n",
    "text = helper.load_data(data_dir)\n",
    "# Ignore notice, since we don't use it for analysing the data\n",
    "text = text[81:]"
   ]
  },
  {
   "cell_type": "markdown",
   "metadata": {
    "deletable": true,
    "editable": true
   },
   "source": [
    "## Explore the Data\n",
    "Play around with `view_sentence_range` to view different parts of the data."
   ]
  },
  {
   "cell_type": "code",
   "execution_count": null,
   "metadata": {
    "collapsed": false,
    "deletable": true,
    "editable": true
   },
   "outputs": [],
   "source": [
    "view_sentence_range = (0, 10)\n",
    "\n",
    "\"\"\"\n",
    "DON'T MODIFY ANYTHING IN THIS CELL\n",
    "\"\"\"\n",
    "import numpy as np\n",
    "\n",
    "print('Dataset Stats')\n",
    "print('Roughly the number of unique words: {}'.format(len({word: None for word in text.split()})))\n",
    "scenes = text.split('\\n\\n')\n",
    "print('Number of scenes: {}'.format(len(scenes)))\n",
    "sentence_count_scene = [scene.count('\\n') for scene in scenes]\n",
    "print('Average number of sentences in each scene: {}'.format(np.average(sentence_count_scene)))\n",
    "\n",
    "sentences = [sentence for scene in scenes for sentence in scene.split('\\n')]\n",
    "print('Number of lines: {}'.format(len(sentences)))\n",
    "word_count_sentence = [len(sentence.split()) for sentence in sentences]\n",
    "print('Average number of words in each line: {}'.format(np.average(word_count_sentence)))\n",
    "\n",
    "print()\n",
    "print('The sentences {} to {}:'.format(*view_sentence_range))\n",
    "print('\\n'.join(text.split('\\n')[view_sentence_range[0]:view_sentence_range[1]]))"
   ]
  },
  {
   "cell_type": "markdown",
   "metadata": {
    "deletable": true,
    "editable": true
   },
   "source": [
    "## Implement Preprocessing Functions\n",
    "The first thing to do to any dataset is preprocessing.  Implement the following preprocessing functions below:\n",
    "- Lookup Table\n",
    "- Tokenize Punctuation\n",
    "\n",
    "### Lookup Table\n",
    "To create a word embedding, you first need to transform the words to ids.  In this function, create two dictionaries:\n",
    "- Dictionary to go from the words to an id, we'll call `vocab_to_int`\n",
    "- Dictionary to go from the id to word, we'll call `int_to_vocab`\n",
    "\n",
    "Return these dictionaries in the following tuple `(vocab_to_int, int_to_vocab)`"
   ]
  },
  {
   "cell_type": "code",
   "execution_count": 22,
   "metadata": {
    "collapsed": false,
    "deletable": true,
    "editable": true
   },
   "outputs": [
    {
     "name": "stdout",
     "output_type": "stream",
     "text": [
      "Tests Passed\n"
     ]
    }
   ],
   "source": [
    "import numpy as np\n",
    "import problem_unittests as tests\n",
    "from collections import Counter\n",
    "\n",
    "def create_lookup_tables(text):\n",
    "    \"\"\"\n",
    "    Create lookup tables for vocabulary\n",
    "    :param text: The text of tv scripts split into words\n",
    "    :return: A tuple of dicts (vocab_to_int, int_to_vocab)\n",
    "    \"\"\"\n",
    "    counter = Counter(text)\n",
    "    vocab = list(sorted(counter.keys(), reverse=True))\n",
    "    \n",
    "    vocab_to_int = {v:k for k,v in enumerate(vocab)}\n",
    "    int_to_vocab = {i:v for v,i in vocab_to_int.items()}\n",
    "\n",
    "    # TODO: Implement Function\n",
    "    return vocab_to_int, int_to_vocab\n",
    "\n",
    "\n",
    "\"\"\"\n",
    "DON'T MODIFY ANYTHING IN THIS CELL THAT IS BELOW THIS LINE\n",
    "\"\"\"\n",
    "tests.test_create_lookup_tables(create_lookup_tables)"
   ]
  },
  {
   "cell_type": "markdown",
   "metadata": {
    "deletable": true,
    "editable": true
   },
   "source": [
    "### Tokenize Punctuation\n",
    "We'll be splitting the script into a word array using spaces as delimiters.  However, punctuations like periods and exclamation marks make it hard for the neural network to distinguish between the word \"bye\" and \"bye!\".\n",
    "\n",
    "Implement the function `token_lookup` to return a dict that will be used to tokenize symbols like \"!\" into \"||Exclamation_Mark||\".  Create a dictionary for the following symbols where the symbol is the key and value is the token:\n",
    "- Period ( . )\n",
    "- Comma ( , )\n",
    "- Quotation Mark ( \" )\n",
    "- Semicolon ( ; )\n",
    "- Exclamation mark ( ! )\n",
    "- Question mark ( ? )\n",
    "- Left Parentheses ( ( )\n",
    "- Right Parentheses ( ) )\n",
    "- Dash ( -- )\n",
    "- Return ( \\n )\n",
    "\n",
    "This dictionary will be used to token the symbols and add the delimiter (space) around it.  This separates the symbols as it's own word, making it easier for the neural network to predict on the next word. Make sure you don't use a token that could be confused as a word. Instead of using the token \"dash\", try using something like \"||dash||\"."
   ]
  },
  {
   "cell_type": "code",
   "execution_count": 23,
   "metadata": {
    "collapsed": false,
    "deletable": true,
    "editable": true
   },
   "outputs": [
    {
     "name": "stdout",
     "output_type": "stream",
     "text": [
      "Tests Passed\n"
     ]
    }
   ],
   "source": [
    "def token_lookup():\n",
    "    \"\"\"\n",
    "    Generate a dict to turn punctuation into a token.\n",
    "    :return: Tokenize dictionary where the key is the punctuation and the value is the token\n",
    "    \"\"\"\n",
    "    # TODO: Implement Function\n",
    "    return {\n",
    "        '.': '||Period||',\n",
    "        ',': '||Comma||',\n",
    "        '\"': '||QuotationMark||',\n",
    "        ';' : '||SemiColon||',\n",
    "        '!' : '||ExclamationMark||',\n",
    "        '?': '||QuestionMark||',\n",
    "        '(': '||LeftParentheses||',\n",
    "        ')': '||RightParentheses||',\n",
    "        '--': '||Dash||',\n",
    "        '\\n': '||Return||'\n",
    "    }\n",
    "\n",
    "\"\"\"\n",
    "DON'T MODIFY ANYTHING IN THIS CELL THAT IS BELOW THIS LINE\n",
    "\"\"\"\n",
    "tests.test_tokenize(token_lookup)"
   ]
  },
  {
   "cell_type": "markdown",
   "metadata": {
    "deletable": true,
    "editable": true
   },
   "source": [
    "## Preprocess all the data and save it\n",
    "Running the code cell below will preprocess all the data and save it to file."
   ]
  },
  {
   "cell_type": "code",
   "execution_count": 24,
   "metadata": {
    "collapsed": false,
    "deletable": true,
    "editable": true
   },
   "outputs": [],
   "source": [
    "\"\"\"\n",
    "DON'T MODIFY ANYTHING IN THIS CELL\n",
    "\"\"\"\n",
    "# Preprocess Training, Validation, and Testing Data\n",
    "helper.preprocess_and_save_data(data_dir, token_lookup, create_lookup_tables)"
   ]
  },
  {
   "cell_type": "markdown",
   "metadata": {
    "deletable": true,
    "editable": true
   },
   "source": [
    "# Check Point\n",
    "This is your first checkpoint. If you ever decide to come back to this notebook or have to restart the notebook, you can start from here. The preprocessed data has been saved to disk."
   ]
  },
  {
   "cell_type": "code",
   "execution_count": 25,
   "metadata": {
    "collapsed": false,
    "deletable": true,
    "editable": true
   },
   "outputs": [],
   "source": [
    "\"\"\"\n",
    "DON'T MODIFY ANYTHING IN THIS CELL\n",
    "\"\"\"\n",
    "import helper\n",
    "import numpy as np\n",
    "import problem_unittests as tests\n",
    "\n",
    "int_text, vocab_to_int, int_to_vocab, token_dict = helper.load_preprocess()"
   ]
  },
  {
   "cell_type": "markdown",
   "metadata": {
    "deletable": true,
    "editable": true
   },
   "source": [
    "## Build the Neural Network\n",
    "You'll build the components necessary to build a RNN by implementing the following functions below:\n",
    "- get_inputs\n",
    "- get_init_cell\n",
    "- get_embed\n",
    "- build_rnn\n",
    "- build_nn\n",
    "- get_batches\n",
    "\n",
    "### Check the Version of TensorFlow and Access to GPU"
   ]
  },
  {
   "cell_type": "code",
   "execution_count": 26,
   "metadata": {
    "collapsed": false,
    "deletable": true,
    "editable": true
   },
   "outputs": [
    {
     "name": "stdout",
     "output_type": "stream",
     "text": [
      "TensorFlow Version: 1.0.0\n",
      "Default GPU Device: /gpu:0\n"
     ]
    }
   ],
   "source": [
    "\"\"\"\n",
    "DON'T MODIFY ANYTHING IN THIS CELL\n",
    "\"\"\"\n",
    "from distutils.version import LooseVersion\n",
    "import warnings\n",
    "import tensorflow as tf\n",
    "\n",
    "# Check TensorFlow Version\n",
    "assert LooseVersion(tf.__version__) >= LooseVersion('1.0'), 'Please use TensorFlow version 1.0 or newer'\n",
    "print('TensorFlow Version: {}'.format(tf.__version__))\n",
    "\n",
    "# Check for a GPU\n",
    "if not tf.test.gpu_device_name():\n",
    "    warnings.warn('No GPU found. Please use a GPU to train your neural network.')\n",
    "else:\n",
    "    print('Default GPU Device: {}'.format(tf.test.gpu_device_name()))"
   ]
  },
  {
   "cell_type": "markdown",
   "metadata": {
    "deletable": true,
    "editable": true
   },
   "source": [
    "### Input\n",
    "Implement the `get_inputs()` function to create TF Placeholders for the Neural Network.  It should create the following placeholders:\n",
    "- Input text placeholder named \"input\" using the [TF Placeholder](https://www.tensorflow.org/api_docs/python/tf/placeholder) `name` parameter.\n",
    "- Targets placeholder\n",
    "- Learning Rate placeholder\n",
    "\n",
    "Return the placeholders in the following the tuple `(Input, Targets, LearingRate)`"
   ]
  },
  {
   "cell_type": "code",
   "execution_count": 27,
   "metadata": {
    "collapsed": false,
    "deletable": true,
    "editable": true
   },
   "outputs": [
    {
     "name": "stdout",
     "output_type": "stream",
     "text": [
      "Tests Passed\n"
     ]
    }
   ],
   "source": [
    "def get_inputs():\n",
    "    \"\"\"\n",
    "    Create TF Placeholders for input, targets, and learning rate.\n",
    "    :return: Tuple (inputs, targets, learning rate)\n",
    "    \"\"\"\n",
    "    inputs = tf.placeholder(dtype=tf.int32, shape=[None,None], name='input')\n",
    "    targets = tf.placeholder(dtype=tf.int32, shape=[None,None], name='targets')\n",
    "    learning_rate = tf.placeholder(dtype=tf.float32, name='learning_rate')\n",
    "                           \n",
    "    # TODO: Implement Function\n",
    "    return inputs, targets, learning_rate\n",
    "\n",
    "\n",
    "\"\"\"\n",
    "DON'T MODIFY ANYTHING IN THIS CELL THAT IS BELOW THIS LINE\n",
    "\"\"\"\n",
    "tests.test_get_inputs(get_inputs)"
   ]
  },
  {
   "cell_type": "markdown",
   "metadata": {
    "deletable": true,
    "editable": true
   },
   "source": [
    "### Build RNN Cell and Initialize\n",
    "Stack one or more [`BasicLSTMCells`](https://www.tensorflow.org/api_docs/python/tf/contrib/rnn/BasicLSTMCell) in a [`MultiRNNCell`](https://www.tensorflow.org/api_docs/python/tf/contrib/rnn/MultiRNNCell).\n",
    "- The Rnn size should be set using `rnn_size`\n",
    "- Initalize Cell State using the MultiRNNCell's [`zero_state()`](https://www.tensorflow.org/api_docs/python/tf/contrib/rnn/MultiRNNCell#zero_state) function\n",
    "    - Apply the name \"initial_state\" to the initial state using [`tf.identity()`](https://www.tensorflow.org/api_docs/python/tf/identity)\n",
    "\n",
    "Return the cell and initial state in the following tuple `(Cell, InitialState)`"
   ]
  },
  {
   "cell_type": "code",
   "execution_count": 28,
   "metadata": {
    "collapsed": false,
    "deletable": true,
    "editable": true
   },
   "outputs": [
    {
     "name": "stdout",
     "output_type": "stream",
     "text": [
      "Tests Passed\n"
     ]
    }
   ],
   "source": [
    "def get_init_cell(batch_size, rnn_size):\n",
    "    \"\"\"\n",
    "    Create an RNN Cell and initialize it.\n",
    "    :param batch_size: Size of batches\n",
    "    :param rnn_size: Size of RNNs\n",
    "    :return: Tuple (cell, initialize state)\n",
    "    \"\"\"\n",
    "    lstm = tf.contrib.rnn.BasicLSTMCell(rnn_size)\n",
    "    cell = tf.contrib.rnn.MultiRNNCell([lstm] * 3)\n",
    "    \n",
    "    initial_state = tf.identity(cell.zero_state(batch_size, tf.float32), 'initial_state')\n",
    "        \n",
    "    return cell, initial_state\n",
    "\n",
    "\n",
    "\"\"\"\n",
    "DON'T MODIFY ANYTHING IN THIS CELL THAT IS BELOW THIS LINE\n",
    "\"\"\"\n",
    "tests.test_get_init_cell(get_init_cell)"
   ]
  },
  {
   "cell_type": "markdown",
   "metadata": {
    "deletable": true,
    "editable": true
   },
   "source": [
    "### Word Embedding\n",
    "Apply embedding to `input_data` using TensorFlow.  Return the embedded sequence."
   ]
  },
  {
   "cell_type": "code",
   "execution_count": 29,
   "metadata": {
    "collapsed": false,
    "deletable": true,
    "editable": true
   },
   "outputs": [
    {
     "name": "stdout",
     "output_type": "stream",
     "text": [
      "Tests Passed\n"
     ]
    }
   ],
   "source": [
    "def get_embed(input_data, vocab_size, embed_dim):\n",
    "    \"\"\"\n",
    "    Create embedding for <input_data>.\n",
    "    :param input_data: TF placeholder for text input.\n",
    "    :param vocab_size: Number of words in vocabulary.\n",
    "    :param embed_dim: Number of embedding dimensions\n",
    "    :return: Embedded input.\n",
    "    \"\"\"\n",
    "    embeddings = tf.Variable(\n",
    "        tf.random_uniform(shape=(vocab_size, embed_dim), minval=-1.0, maxval=1.0),\n",
    "        name='embeddings')\n",
    "    embed = tf.nn.embedding_lookup(embeddings, input_data)\n",
    "    \n",
    "    # TODO: Implement Function\n",
    "    return embed\n",
    "\n",
    "\n",
    "\"\"\"\n",
    "DON'T MODIFY ANYTHING IN THIS CELL THAT IS BELOW THIS LINE\n",
    "\"\"\"\n",
    "tests.test_get_embed(get_embed)"
   ]
  },
  {
   "cell_type": "markdown",
   "metadata": {
    "deletable": true,
    "editable": true
   },
   "source": [
    "### Build RNN\n",
    "You created a RNN Cell in the `get_init_cell()` function.  Time to use the cell to create a RNN.\n",
    "- Build the RNN using the [`tf.nn.dynamic_rnn()`](https://www.tensorflow.org/api_docs/python/tf/nn/dynamic_rnn)\n",
    " - Apply the name \"final_state\" to the final state using [`tf.identity()`](https://www.tensorflow.org/api_docs/python/tf/identity)\n",
    "\n",
    "Return the outputs and final_state state in the following tuple `(Outputs, FinalState)` "
   ]
  },
  {
   "cell_type": "code",
   "execution_count": 30,
   "metadata": {
    "collapsed": false,
    "deletable": true,
    "editable": true
   },
   "outputs": [
    {
     "name": "stdout",
     "output_type": "stream",
     "text": [
      "Tests Passed\n"
     ]
    }
   ],
   "source": [
    "def build_rnn(cell, inputs):\n",
    "    \"\"\"\n",
    "    Create a RNN using a RNN Cell\n",
    "    :param cell: RNN Cell\n",
    "    :param inputs: Input text data\n",
    "    :return: Tuple (Outputs, Final State)\n",
    "    \"\"\"\n",
    "    outputs, final_state = tf.nn.dynamic_rnn(cell, inputs, dtype=tf.float32)\n",
    "    \n",
    "    final_state = tf.identity(final_state, name='final_state')\n",
    "    \n",
    "    # TODO: Implement Function\n",
    "    return outputs, final_state\n",
    "\n",
    "\n",
    "\"\"\"\n",
    "DON'T MODIFY ANYTHING IN THIS CELL THAT IS BELOW THIS LINE\n",
    "\"\"\"\n",
    "tests.test_build_rnn(build_rnn)"
   ]
  },
  {
   "cell_type": "markdown",
   "metadata": {
    "deletable": true,
    "editable": true
   },
   "source": [
    "### Build the Neural Network\n",
    "Apply the functions you implemented above to:\n",
    "- Apply embedding to `input_data` using your `get_embed(input_data, vocab_size, embed_dim)` function.\n",
    "- Build RNN using `cell` and your `build_rnn(cell, inputs)` function.\n",
    "- Apply a fully connected layer with a linear activation and `vocab_size` as the number of outputs.\n",
    "\n",
    "Return the logits and final state in the following tuple (Logits, FinalState) "
   ]
  },
  {
   "cell_type": "code",
   "execution_count": 31,
   "metadata": {
    "collapsed": false,
    "deletable": true,
    "editable": true
   },
   "outputs": [
    {
     "name": "stdout",
     "output_type": "stream",
     "text": [
      "Tests Passed\n"
     ]
    }
   ],
   "source": [
    "def build_nn(cell, rnn_size, input_data, vocab_size):\n",
    "    \"\"\"\n",
    "    Build part of the neural network\n",
    "    :param cell: RNN cell\n",
    "    :param rnn_size: Size of rnns\n",
    "    :param input_data: Input data\n",
    "    :param vocab_size: Vocabulary size\n",
    "    :return: Tuple (Logits, FinalState)\n",
    "    \"\"\"\n",
    "    embed = get_embed(input_data, vocab_size, 300)\n",
    "    outputs, final_states = build_rnn(cell, embed)\n",
    "    \n",
    "    logits = tf.contrib.layers.fully_connected(outputs,vocab_size, activation_fn=None)\n",
    "    \n",
    "    # TODO: Implement Function\n",
    "    return logits, final_states\n",
    "\n",
    "\n",
    "\"\"\"\n",
    "DON'T MODIFY ANYTHING IN THIS CELL THAT IS BELOW THIS LINE\n",
    "\"\"\"\n",
    "tests.test_build_nn(build_nn)"
   ]
  },
  {
   "cell_type": "markdown",
   "metadata": {
    "deletable": true,
    "editable": true
   },
   "source": [
    "### Batches\n",
    "Implement `get_batches` to create batches of input and targets using `int_text`.  The batches should be a Numpy array with the shape `(number of batches, 2, batch size, sequence length)`. Each batch contains two elements:\n",
    "- The first element is a single batch of **input** with the shape `[batch size, sequence length]`\n",
    "- The second element is a single batch of **targets** with the shape `[batch size, sequence length]`\n",
    "\n",
    "If you can't fill the last batch with enough data, drop the last batch.\n",
    "\n",
    "For exmple, `get_batches([1, 2, 3, 4, 5, 6, 7, 8, 9, 10, 11, 12, 13, 14, 15], 2, 3)` would return a Numpy array of the following:\n",
    "```\n",
    "[\n",
    "  # First Batch\n",
    "  [\n",
    "    # Batch of Input\n",
    "    [[ 1  2  3], [ 7  8  9]],\n",
    "    # Batch of targets\n",
    "    [[ 2  3  4], [ 8  9 10]]\n",
    "  ],\n",
    " \n",
    "  # Second Batch\n",
    "  [\n",
    "    # Batch of Input\n",
    "    [[ 4  5  6], [10 11 12]],\n",
    "    # Batch of targets\n",
    "    [[ 5  6  7], [11 12 13]]\n",
    "  ]\n",
    "]\n",
    "```"
   ]
  },
  {
   "cell_type": "code",
   "execution_count": 41,
   "metadata": {
    "collapsed": true
   },
   "outputs": [],
   "source": [
    "def window_stack(a, stepsize=1, width=3):\n",
    "    n = a.shape[0]\n",
    "    return np.hstack( a[i:1+n+i-width:stepsize] for i in range(0,width) )"
   ]
  },
  {
   "cell_type": "code",
   "execution_count": 39,
   "metadata": {
    "collapsed": false,
    "deletable": true,
    "editable": true,
    "scrolled": true
   },
   "outputs": [
    {
     "name": "stdout",
     "output_type": "stream",
     "text": [
      "Tests Passed\n"
     ]
    }
   ],
   "source": [
    "def get_batches(int_text, batch_size, seq_length):\n",
    "    \"\"\"\n",
    "    Return batches of input and target\n",
    "    :param int_text: Text with the words replaced by their ids\n",
    "    :param batch_size: The size of batch\n",
    "    :param seq_length: The length of sequence\n",
    "    :return: Batches as a Numpy array\n",
    "    \"\"\"\n",
    "    slice_size = batch_size * seq_length\n",
    "    num_batches = int(len(int_text) / slice_size)\n",
    "    x = np.array(int_text[: num_batches * slice_size])\n",
    "    y = np.array(int_text[1: num_batches * slice_size + 1])\n",
    "    \n",
    "    x = np.stack(np.split(x, batch_size))\n",
    "    y = np.stack(np.split(y, batch_size))\n",
    "    \n",
    "    batches = []\n",
    "    \n",
    "    for b in range(num_batches):\n",
    "        x_b = x[:, b*1: b*1+seq_length]\n",
    "        y_b = y[:, b*1: b*1+seq_length]\n",
    "        batches.append([x_b, y_b])\n",
    "\n",
    "    return np.array(batches)\n",
    "\n",
    "\"\"\"\n",
    "DON'T MODIFY ANYTHING IN THIS CELL THAT IS BELOW THIS LINE\n",
    "\"\"\"\n",
    "tests.test_get_batches(get_batches)"
   ]
  },
  {
   "cell_type": "markdown",
   "metadata": {
    "deletable": true,
    "editable": true
   },
   "source": [
    "## Neural Network Training\n",
    "### Hyperparameters\n",
    "Tune the following parameters:\n",
    "\n",
    "- Set `num_epochs` to the number of epochs.\n",
    "- Set `batch_size` to the batch size.\n",
    "- Set `rnn_size` to the size of the RNNs.\n",
    "- Set `seq_length` to the length of sequence.\n",
    "- Set `learning_rate` to the learning rate.\n",
    "- Set `show_every_n_batches` to the number of batches the neural network should print progress."
   ]
  },
  {
   "cell_type": "code",
   "execution_count": 55,
   "metadata": {
    "collapsed": true,
    "deletable": true,
    "editable": true
   },
   "outputs": [],
   "source": [
    "# Number of Epochs\n",
    "num_epochs = 200\n",
    "# Batch Size\n",
    "batch_size = 256\n",
    "# RNN Size\n",
    "rnn_size = 512\n",
    "# Sequence Length\n",
    "seq_length = 20\n",
    "# Learning Rate\n",
    "learning_rate = 0.001\n",
    "# Show stats for every n number of batches\n",
    "show_every_n_batches = 5\n",
    "\n",
    "\"\"\"\n",
    "DON'T MODIFY ANYTHING IN THIS CELL THAT IS BELOW THIS LINE\n",
    "\"\"\"\n",
    "save_dir = './save'"
   ]
  },
  {
   "cell_type": "markdown",
   "metadata": {
    "deletable": true,
    "editable": true
   },
   "source": [
    "### Build the Graph\n",
    "Build the graph using the neural network you implemented."
   ]
  },
  {
   "cell_type": "code",
   "execution_count": 56,
   "metadata": {
    "collapsed": false,
    "deletable": true,
    "editable": true
   },
   "outputs": [],
   "source": [
    "\"\"\"\n",
    "DON'T MODIFY ANYTHING IN THIS CELL\n",
    "\"\"\"\n",
    "from tensorflow.contrib import seq2seq\n",
    "\n",
    "train_graph = tf.Graph()\n",
    "with train_graph.as_default():\n",
    "    vocab_size = len(int_to_vocab)\n",
    "    input_text, targets, lr = get_inputs()\n",
    "    input_data_shape = tf.shape(input_text)\n",
    "    cell, initial_state = get_init_cell(input_data_shape[0], rnn_size)\n",
    "    logits, final_state = build_nn(cell, rnn_size, input_text, vocab_size)\n",
    "\n",
    "    # Probabilities for generating words\n",
    "    probs = tf.nn.softmax(logits, name='probs')\n",
    "    tf.summary.histogram('probs', probs)\n",
    "\n",
    "    # Loss function\n",
    "    cost = seq2seq.sequence_loss(\n",
    "        logits,\n",
    "        targets,\n",
    "        tf.ones([input_data_shape[0], input_data_shape[1]]))\n",
    "    tf.summary.scalar('cost', cost)\n",
    "\n",
    "    # Optimizer\n",
    "    optimizer = tf.train.AdamOptimizer(lr)\n",
    "\n",
    "    # Gradient Clipping\n",
    "    gradients = optimizer.compute_gradients(cost)\n",
    "    capped_gradients = [(tf.clip_by_value(grad, -1., 1.), var) for grad, var in gradients]\n",
    "    train_op = optimizer.apply_gradients(capped_gradients)\n",
    "    "
   ]
  },
  {
   "cell_type": "markdown",
   "metadata": {
    "deletable": true,
    "editable": true
   },
   "source": [
    "## Train\n",
    "Train the neural network on the preprocessed data.  If you have a hard time getting a good loss, check the [forms](https://discussions.udacity.com/) to see if anyone is having the same problem."
   ]
  },
  {
   "cell_type": "code",
   "execution_count": 57,
   "metadata": {
    "collapsed": false,
    "deletable": true,
    "editable": true,
    "scrolled": false
   },
   "outputs": [
    {
     "name": "stdout",
     "output_type": "stream",
     "text": [
      "Epoch   0 Batch    0/13   train_loss = 8.822\n",
      "Epoch   0 Batch    5/13   train_loss = 7.163\n",
      "Epoch   0 Batch   10/13   train_loss = 5.950\n",
      "Epoch   1 Batch    2/13   train_loss = 6.048\n",
      "Epoch   1 Batch    7/13   train_loss = 5.667\n",
      "Epoch   1 Batch   12/13   train_loss = 5.750\n",
      "Epoch   2 Batch    4/13   train_loss = 5.649\n",
      "Epoch   2 Batch    9/13   train_loss = 5.659\n",
      "Epoch   3 Batch    1/13   train_loss = 5.691\n",
      "Epoch   3 Batch    6/13   train_loss = 5.597\n",
      "Epoch   3 Batch   11/13   train_loss = 5.642\n",
      "Epoch   4 Batch    3/13   train_loss = 5.625\n",
      "Epoch   4 Batch    8/13   train_loss = 5.590\n",
      "Epoch   5 Batch    0/13   train_loss = 5.688\n",
      "Epoch   5 Batch    5/13   train_loss = 5.579\n",
      "Epoch   5 Batch   10/13   train_loss = 5.618\n",
      "Epoch   6 Batch    2/13   train_loss = 5.629\n",
      "Epoch   6 Batch    7/13   train_loss = 5.556\n",
      "Epoch   6 Batch   12/13   train_loss = 5.632\n",
      "Epoch   7 Batch    4/13   train_loss = 5.589\n",
      "Epoch   7 Batch    9/13   train_loss = 5.589\n",
      "Epoch   8 Batch    1/13   train_loss = 5.655\n",
      "Epoch   8 Batch    6/13   train_loss = 5.556\n",
      "Epoch   8 Batch   11/13   train_loss = 5.615\n",
      "Epoch   9 Batch    3/13   train_loss = 5.594\n",
      "Epoch   9 Batch    8/13   train_loss = 5.560\n",
      "Epoch  10 Batch    0/13   train_loss = 5.667\n",
      "Epoch  10 Batch    5/13   train_loss = 5.559\n",
      "Epoch  10 Batch   10/13   train_loss = 5.598\n",
      "Epoch  11 Batch    2/13   train_loss = 5.612\n",
      "Epoch  11 Batch    7/13   train_loss = 5.538\n",
      "Epoch  11 Batch   12/13   train_loss = 5.616\n",
      "Epoch  12 Batch    4/13   train_loss = 5.577\n",
      "Epoch  12 Batch    9/13   train_loss = 5.577\n",
      "Epoch  13 Batch    1/13   train_loss = 5.642\n",
      "Epoch  13 Batch    6/13   train_loss = 5.545\n",
      "Epoch  13 Batch   11/13   train_loss = 5.603\n",
      "Epoch  14 Batch    3/13   train_loss = 5.578\n",
      "Epoch  14 Batch    8/13   train_loss = 5.550\n",
      "Epoch  15 Batch    0/13   train_loss = 5.670\n",
      "Epoch  15 Batch    5/13   train_loss = 5.554\n",
      "Epoch  15 Batch   10/13   train_loss = 5.588\n",
      "Epoch  16 Batch    2/13   train_loss = 5.601\n",
      "Epoch  16 Batch    7/13   train_loss = 5.531\n",
      "Epoch  16 Batch   12/13   train_loss = 5.609\n",
      "Epoch  17 Batch    4/13   train_loss = 5.572\n",
      "Epoch  17 Batch    9/13   train_loss = 5.570\n",
      "Epoch  18 Batch    1/13   train_loss = 5.633\n",
      "Epoch  18 Batch    6/13   train_loss = 5.535\n",
      "Epoch  18 Batch   11/13   train_loss = 5.593\n",
      "Epoch  19 Batch    3/13   train_loss = 5.573\n",
      "Epoch  19 Batch    8/13   train_loss = 5.534\n",
      "Epoch  20 Batch    0/13   train_loss = 5.657\n",
      "Epoch  20 Batch    5/13   train_loss = 5.544\n",
      "Epoch  20 Batch   10/13   train_loss = 5.584\n",
      "Epoch  21 Batch    2/13   train_loss = 5.597\n",
      "Epoch  21 Batch    7/13   train_loss = 5.524\n",
      "Epoch  21 Batch   12/13   train_loss = 5.597\n",
      "Epoch  22 Batch    4/13   train_loss = 5.568\n",
      "Epoch  22 Batch    9/13   train_loss = 5.561\n",
      "Epoch  23 Batch    1/13   train_loss = 5.625\n",
      "Epoch  23 Batch    6/13   train_loss = 5.528\n",
      "Epoch  23 Batch   11/13   train_loss = 5.585\n",
      "Epoch  24 Batch    3/13   train_loss = 5.568\n",
      "Epoch  24 Batch    8/13   train_loss = 5.535\n",
      "Epoch  25 Batch    0/13   train_loss = 5.645\n",
      "Epoch  25 Batch    5/13   train_loss = 5.531\n",
      "Epoch  25 Batch   10/13   train_loss = 5.568\n",
      "Epoch  26 Batch    2/13   train_loss = 5.590\n",
      "Epoch  26 Batch    7/13   train_loss = 5.511\n",
      "Epoch  26 Batch   12/13   train_loss = 5.599\n",
      "Epoch  27 Batch    4/13   train_loss = 5.553\n",
      "Epoch  27 Batch    9/13   train_loss = 5.548\n",
      "Epoch  28 Batch    1/13   train_loss = 5.605\n",
      "Epoch  28 Batch    6/13   train_loss = 5.507\n",
      "Epoch  28 Batch   11/13   train_loss = 5.566\n",
      "Epoch  29 Batch    3/13   train_loss = 5.551\n",
      "Epoch  29 Batch    8/13   train_loss = 5.506\n",
      "Epoch  30 Batch    0/13   train_loss = 5.621\n",
      "Epoch  30 Batch    5/13   train_loss = 5.504\n",
      "Epoch  30 Batch   10/13   train_loss = 5.547\n",
      "Epoch  31 Batch    2/13   train_loss = 5.568\n",
      "Epoch  31 Batch    7/13   train_loss = 5.466\n",
      "Epoch  31 Batch   12/13   train_loss = 5.581\n",
      "Epoch  32 Batch    4/13   train_loss = 5.499\n",
      "Epoch  32 Batch    9/13   train_loss = 5.478\n",
      "Epoch  33 Batch    1/13   train_loss = 5.527\n",
      "Epoch  33 Batch    6/13   train_loss = 5.330\n",
      "Epoch  33 Batch   11/13   train_loss = 5.375\n",
      "Epoch  34 Batch    3/13   train_loss = 5.241\n",
      "Epoch  34 Batch    8/13   train_loss = 5.166\n",
      "Epoch  35 Batch    0/13   train_loss = 5.254\n",
      "Epoch  35 Batch    5/13   train_loss = 5.023\n",
      "Epoch  35 Batch   10/13   train_loss = 5.025\n",
      "Epoch  36 Batch    2/13   train_loss = 4.939\n",
      "Epoch  36 Batch    7/13   train_loss = 4.791\n",
      "Epoch  36 Batch   12/13   train_loss = 4.919\n",
      "Epoch  37 Batch    4/13   train_loss = 4.699\n",
      "Epoch  37 Batch    9/13   train_loss = 4.648\n",
      "Epoch  38 Batch    1/13   train_loss = 4.714\n",
      "Epoch  38 Batch    6/13   train_loss = 4.464\n",
      "Epoch  38 Batch   11/13   train_loss = 4.535\n",
      "Epoch  39 Batch    3/13   train_loss = 4.366\n",
      "Epoch  39 Batch    8/13   train_loss = 4.286\n",
      "Epoch  40 Batch    0/13   train_loss = 4.489\n",
      "Epoch  40 Batch    5/13   train_loss = 4.133\n",
      "Epoch  40 Batch   10/13   train_loss = 4.178\n",
      "Epoch  41 Batch    2/13   train_loss = 4.144\n",
      "Epoch  41 Batch    7/13   train_loss = 3.928\n",
      "Epoch  41 Batch   12/13   train_loss = 4.142\n",
      "Epoch  42 Batch    4/13   train_loss = 3.872\n",
      "Epoch  42 Batch    9/13   train_loss = 3.810\n",
      "Epoch  43 Batch    1/13   train_loss = 3.917\n",
      "Epoch  43 Batch    6/13   train_loss = 3.641\n",
      "Epoch  43 Batch   11/13   train_loss = 3.753\n",
      "Epoch  44 Batch    3/13   train_loss = 3.609\n",
      "Epoch  44 Batch    8/13   train_loss = 3.468\n",
      "Epoch  45 Batch    0/13   train_loss = 3.787\n",
      "Epoch  45 Batch    5/13   train_loss = 3.370\n",
      "Epoch  45 Batch   10/13   train_loss = 3.420\n",
      "Epoch  46 Batch    2/13   train_loss = 3.398\n",
      "Epoch  46 Batch    7/13   train_loss = 3.179\n",
      "Epoch  46 Batch   12/13   train_loss = 3.457\n",
      "Epoch  47 Batch    4/13   train_loss = 3.142\n",
      "Epoch  47 Batch    9/13   train_loss = 3.096\n",
      "Epoch  48 Batch    1/13   train_loss = 3.264\n",
      "Epoch  48 Batch    6/13   train_loss = 2.958\n",
      "Epoch  48 Batch   11/13   train_loss = 3.075\n",
      "Epoch  49 Batch    3/13   train_loss = 2.945\n",
      "Epoch  49 Batch    8/13   train_loss = 2.805\n",
      "Epoch  50 Batch    0/13   train_loss = 3.249\n",
      "Epoch  50 Batch    5/13   train_loss = 2.735\n",
      "Epoch  50 Batch   10/13   train_loss = 2.781\n",
      "Epoch  51 Batch    2/13   train_loss = 2.812\n",
      "Epoch  51 Batch    7/13   train_loss = 2.566\n",
      "Epoch  51 Batch   12/13   train_loss = 2.882\n",
      "Epoch  52 Batch    4/13   train_loss = 2.557\n",
      "Epoch  52 Batch    9/13   train_loss = 2.491\n",
      "Epoch  53 Batch    1/13   train_loss = 2.737\n",
      "Epoch  53 Batch    6/13   train_loss = 2.371\n",
      "Epoch  53 Batch   11/13   train_loss = 2.508\n",
      "Epoch  54 Batch    3/13   train_loss = 2.388\n",
      "Epoch  54 Batch    8/13   train_loss = 2.251\n",
      "Epoch  55 Batch    0/13   train_loss = 2.735\n",
      "Epoch  55 Batch    5/13   train_loss = 2.195\n",
      "Epoch  55 Batch   10/13   train_loss = 2.226\n",
      "Epoch  56 Batch    2/13   train_loss = 2.284\n",
      "Epoch  56 Batch    7/13   train_loss = 2.043\n",
      "Epoch  56 Batch   12/13   train_loss = 2.351\n",
      "Epoch  57 Batch    4/13   train_loss = 2.026\n",
      "Epoch  57 Batch    9/13   train_loss = 1.986\n",
      "Epoch  58 Batch    1/13   train_loss = 2.243\n",
      "Epoch  58 Batch    6/13   train_loss = 1.875\n",
      "Epoch  58 Batch   11/13   train_loss = 2.009\n",
      "Epoch  59 Batch    3/13   train_loss = 1.900\n",
      "Epoch  59 Batch    8/13   train_loss = 1.764\n",
      "Epoch  60 Batch    0/13   train_loss = 2.287\n",
      "Epoch  60 Batch    5/13   train_loss = 1.718\n",
      "Epoch  60 Batch   10/13   train_loss = 1.749\n",
      "Epoch  61 Batch    2/13   train_loss = 1.858\n",
      "Epoch  61 Batch    7/13   train_loss = 1.605\n",
      "Epoch  61 Batch   12/13   train_loss = 1.889\n",
      "Epoch  62 Batch    4/13   train_loss = 1.644\n",
      "Epoch  62 Batch    9/13   train_loss = 1.549\n",
      "Epoch  63 Batch    1/13   train_loss = 1.854\n",
      "Epoch  63 Batch    6/13   train_loss = 1.470\n",
      "Epoch  63 Batch   11/13   train_loss = 1.594\n",
      "Epoch  64 Batch    3/13   train_loss = 1.507\n",
      "Epoch  64 Batch    8/13   train_loss = 1.378\n",
      "Epoch  65 Batch    0/13   train_loss = 1.879\n",
      "Epoch  65 Batch    5/13   train_loss = 1.335\n",
      "Epoch  65 Batch   10/13   train_loss = 1.352\n",
      "Epoch  66 Batch    2/13   train_loss = 1.453\n",
      "Epoch  66 Batch    7/13   train_loss = 1.228\n",
      "Epoch  66 Batch   12/13   train_loss = 1.488\n",
      "Epoch  67 Batch    4/13   train_loss = 1.237\n",
      "Epoch  67 Batch    9/13   train_loss = 1.191\n",
      "Epoch  68 Batch    1/13   train_loss = 1.435\n",
      "Epoch  68 Batch    6/13   train_loss = 1.116\n",
      "Epoch  68 Batch   11/13   train_loss = 1.214\n",
      "Epoch  69 Batch    3/13   train_loss = 1.163\n",
      "Epoch  69 Batch    8/13   train_loss = 1.042\n",
      "Epoch  70 Batch    0/13   train_loss = 1.531\n",
      "Epoch  70 Batch    5/13   train_loss = 1.012\n",
      "Epoch  70 Batch   10/13   train_loss = 1.040\n",
      "Epoch  71 Batch    2/13   train_loss = 1.143\n",
      "Epoch  71 Batch    7/13   train_loss = 0.928\n",
      "Epoch  71 Batch   12/13   train_loss = 1.192\n",
      "Epoch  72 Batch    4/13   train_loss = 0.965\n",
      "Epoch  72 Batch    9/13   train_loss = 0.901\n",
      "Epoch  73 Batch    1/13   train_loss = 1.126\n",
      "Epoch  73 Batch    6/13   train_loss = 0.850\n",
      "Epoch  73 Batch   11/13   train_loss = 0.945\n",
      "Epoch  74 Batch    3/13   train_loss = 0.903\n",
      "Epoch  74 Batch    8/13   train_loss = 0.815\n",
      "Epoch  75 Batch    0/13   train_loss = 1.253\n",
      "Epoch  75 Batch    5/13   train_loss = 0.823\n",
      "Epoch  75 Batch   10/13   train_loss = 0.804\n",
      "Epoch  76 Batch    2/13   train_loss = 0.908\n",
      "Epoch  76 Batch    7/13   train_loss = 0.758\n",
      "Epoch  76 Batch   12/13   train_loss = 0.937\n",
      "Epoch  77 Batch    4/13   train_loss = 0.802\n",
      "Epoch  77 Batch    9/13   train_loss = 0.732\n",
      "Epoch  78 Batch    1/13   train_loss = 0.940\n",
      "Epoch  78 Batch    6/13   train_loss = 0.723\n",
      "Epoch  78 Batch   11/13   train_loss = 0.770\n",
      "Epoch  79 Batch    3/13   train_loss = 0.749\n",
      "Epoch  79 Batch    8/13   train_loss = 0.692\n",
      "Epoch  80 Batch    0/13   train_loss = 1.062\n",
      "Epoch  80 Batch    5/13   train_loss = 0.680\n",
      "Epoch  80 Batch   10/13   train_loss = 0.656\n",
      "Epoch  81 Batch    2/13   train_loss = 0.726\n",
      "Epoch  81 Batch    7/13   train_loss = 0.607\n",
      "Epoch  81 Batch   12/13   train_loss = 0.749\n",
      "Epoch  82 Batch    4/13   train_loss = 0.632\n",
      "Epoch  82 Batch    9/13   train_loss = 0.578\n",
      "Epoch  83 Batch    1/13   train_loss = 0.724\n",
      "Epoch  83 Batch    6/13   train_loss = 0.556\n",
      "Epoch  83 Batch   11/13   train_loss = 0.591\n",
      "Epoch  84 Batch    3/13   train_loss = 0.562\n",
      "Epoch  84 Batch    8/13   train_loss = 0.516\n",
      "Epoch  85 Batch    0/13   train_loss = 0.797\n",
      "Epoch  85 Batch    5/13   train_loss = 0.489\n",
      "Epoch  85 Batch   10/13   train_loss = 0.492\n",
      "Epoch  86 Batch    2/13   train_loss = 0.542\n",
      "Epoch  86 Batch    7/13   train_loss = 0.441\n",
      "Epoch  86 Batch   12/13   train_loss = 0.578\n",
      "Epoch  87 Batch    4/13   train_loss = 0.475\n",
      "Epoch  87 Batch    9/13   train_loss = 0.437\n",
      "Epoch  88 Batch    1/13   train_loss = 0.550\n",
      "Epoch  88 Batch    6/13   train_loss = 0.424\n",
      "Epoch  88 Batch   11/13   train_loss = 0.453\n",
      "Epoch  89 Batch    3/13   train_loss = 0.440\n",
      "Epoch  89 Batch    8/13   train_loss = 0.404\n",
      "Epoch  90 Batch    0/13   train_loss = 0.621\n",
      "Epoch  90 Batch    5/13   train_loss = 0.396\n",
      "Epoch  90 Batch   10/13   train_loss = 0.391\n",
      "Epoch  91 Batch    2/13   train_loss = 0.424\n",
      "Epoch  91 Batch    7/13   train_loss = 0.365\n",
      "Epoch  91 Batch   12/13   train_loss = 0.470\n",
      "Epoch  92 Batch    4/13   train_loss = 0.387\n",
      "Epoch  92 Batch    9/13   train_loss = 0.359\n",
      "Epoch  93 Batch    1/13   train_loss = 0.446\n",
      "Epoch  93 Batch    6/13   train_loss = 0.352\n",
      "Epoch  93 Batch   11/13   train_loss = 0.373\n",
      "Epoch  94 Batch    3/13   train_loss = 0.368\n",
      "Epoch  94 Batch    8/13   train_loss = 0.346\n",
      "Epoch  95 Batch    0/13   train_loss = 0.518\n",
      "Epoch  95 Batch    5/13   train_loss = 0.329\n",
      "Epoch  95 Batch   10/13   train_loss = 0.341\n",
      "Epoch  96 Batch    2/13   train_loss = 0.375\n",
      "Epoch  96 Batch    7/13   train_loss = 0.309\n",
      "Epoch  96 Batch   12/13   train_loss = 0.399\n",
      "Epoch  97 Batch    4/13   train_loss = 0.374\n",
      "Epoch  97 Batch    9/13   train_loss = 0.332\n",
      "Epoch  98 Batch    1/13   train_loss = 0.382\n",
      "Epoch  98 Batch    6/13   train_loss = 0.334\n",
      "Epoch  98 Batch   11/13   train_loss = 0.365\n",
      "Epoch  99 Batch    3/13   train_loss = 0.321\n",
      "Epoch  99 Batch    8/13   train_loss = 0.333\n",
      "Epoch 100 Batch    0/13   train_loss = 0.542\n",
      "Epoch 100 Batch    5/13   train_loss = 0.295\n",
      "Epoch 100 Batch   10/13   train_loss = 0.335\n",
      "Epoch 101 Batch    2/13   train_loss = 0.347\n",
      "Epoch 101 Batch    7/13   train_loss = 0.286\n",
      "Epoch 101 Batch   12/13   train_loss = 0.384\n",
      "Epoch 102 Batch    4/13   train_loss = 0.307\n",
      "Epoch 102 Batch    9/13   train_loss = 0.288\n",
      "Epoch 103 Batch    1/13   train_loss = 0.345\n",
      "Epoch 103 Batch    6/13   train_loss = 0.258\n",
      "Epoch 103 Batch   11/13   train_loss = 0.292\n",
      "Epoch 104 Batch    3/13   train_loss = 0.296\n",
      "Epoch 104 Batch    8/13   train_loss = 0.271\n",
      "Epoch 105 Batch    0/13   train_loss = 0.371\n",
      "Epoch 105 Batch    5/13   train_loss = 0.262\n",
      "Epoch 105 Batch   10/13   train_loss = 0.272\n",
      "Epoch 106 Batch    2/13   train_loss = 0.269\n",
      "Epoch 106 Batch    7/13   train_loss = 0.247\n",
      "Epoch 106 Batch   12/13   train_loss = 0.330\n",
      "Epoch 107 Batch    4/13   train_loss = 0.287\n",
      "Epoch 107 Batch    9/13   train_loss = 0.265\n",
      "Epoch 108 Batch    1/13   train_loss = 0.302\n",
      "Epoch 108 Batch    6/13   train_loss = 0.252\n",
      "Epoch 108 Batch   11/13   train_loss = 0.274\n",
      "Epoch 109 Batch    3/13   train_loss = 0.271\n",
      "Epoch 109 Batch    8/13   train_loss = 0.243\n",
      "Epoch 110 Batch    0/13   train_loss = 0.396\n",
      "Epoch 110 Batch    5/13   train_loss = 0.244\n",
      "Epoch 110 Batch   10/13   train_loss = 0.251\n",
      "Epoch 111 Batch    2/13   train_loss = 0.270\n",
      "Epoch 111 Batch    7/13   train_loss = 0.222\n",
      "Epoch 111 Batch   12/13   train_loss = 0.295\n",
      "Epoch 112 Batch    4/13   train_loss = 0.257\n",
      "Epoch 112 Batch    9/13   train_loss = 0.245\n",
      "Epoch 113 Batch    1/13   train_loss = 0.266\n",
      "Epoch 113 Batch    6/13   train_loss = 0.227\n",
      "Epoch 113 Batch   11/13   train_loss = 0.247\n",
      "Epoch 114 Batch    3/13   train_loss = 0.246\n",
      "Epoch 114 Batch    8/13   train_loss = 0.241\n",
      "Epoch 115 Batch    0/13   train_loss = 0.322\n",
      "Epoch 115 Batch    5/13   train_loss = 0.223\n",
      "Epoch 115 Batch   10/13   train_loss = 0.251\n",
      "Epoch 116 Batch    2/13   train_loss = 0.233\n",
      "Epoch 116 Batch    7/13   train_loss = 0.210\n",
      "Epoch 116 Batch   12/13   train_loss = 0.297\n",
      "Epoch 117 Batch    4/13   train_loss = 0.243\n",
      "Epoch 117 Batch    9/13   train_loss = 0.221\n",
      "Epoch 118 Batch    1/13   train_loss = 0.267\n",
      "Epoch 118 Batch    6/13   train_loss = 0.204\n",
      "Epoch 118 Batch   11/13   train_loss = 0.234\n",
      "Epoch 119 Batch    3/13   train_loss = 0.222\n",
      "Epoch 119 Batch    8/13   train_loss = 0.205\n",
      "Epoch 120 Batch    0/13   train_loss = 0.268\n",
      "Epoch 120 Batch    5/13   train_loss = 0.196\n",
      "Epoch 120 Batch   10/13   train_loss = 0.201\n",
      "Epoch 121 Batch    2/13   train_loss = 0.202\n",
      "Epoch 121 Batch    7/13   train_loss = 0.181\n",
      "Epoch 121 Batch   12/13   train_loss = 0.224\n",
      "Epoch 122 Batch    4/13   train_loss = 0.203\n",
      "Epoch 122 Batch    9/13   train_loss = 0.198\n",
      "Epoch 123 Batch    1/13   train_loss = 0.198\n",
      "Epoch 123 Batch    6/13   train_loss = 0.178\n",
      "Epoch 123 Batch   11/13   train_loss = 0.199\n",
      "Epoch 124 Batch    3/13   train_loss = 0.188\n",
      "Epoch 124 Batch    8/13   train_loss = 0.183\n",
      "Epoch 125 Batch    0/13   train_loss = 0.216\n",
      "Epoch 125 Batch    5/13   train_loss = 0.177\n",
      "Epoch 125 Batch   10/13   train_loss = 0.182\n",
      "Epoch 126 Batch    2/13   train_loss = 0.184\n",
      "Epoch 126 Batch    7/13   train_loss = 0.168\n",
      "Epoch 126 Batch   12/13   train_loss = 0.206\n",
      "Epoch 127 Batch    4/13   train_loss = 0.191\n",
      "Epoch 127 Batch    9/13   train_loss = 0.188\n",
      "Epoch 128 Batch    1/13   train_loss = 0.185\n",
      "Epoch 128 Batch    6/13   train_loss = 0.169\n",
      "Epoch 128 Batch   11/13   train_loss = 0.189\n",
      "Epoch 129 Batch    3/13   train_loss = 0.179\n",
      "Epoch 129 Batch    8/13   train_loss = 0.175\n",
      "Epoch 130 Batch    0/13   train_loss = 0.198\n",
      "Epoch 130 Batch    5/13   train_loss = 0.170\n",
      "Epoch 130 Batch   10/13   train_loss = 0.175\n",
      "Epoch 131 Batch    2/13   train_loss = 0.176\n",
      "Epoch 131 Batch    7/13   train_loss = 0.161\n",
      "Epoch 131 Batch   12/13   train_loss = 0.196\n",
      "Epoch 132 Batch    4/13   train_loss = 0.184\n",
      "Epoch 132 Batch    9/13   train_loss = 0.182\n",
      "Epoch 133 Batch    1/13   train_loss = 0.177\n",
      "Epoch 133 Batch    6/13   train_loss = 0.163\n",
      "Epoch 133 Batch   11/13   train_loss = 0.182\n",
      "Epoch 134 Batch    3/13   train_loss = 0.173\n",
      "Epoch 134 Batch    8/13   train_loss = 0.170\n",
      "Epoch 135 Batch    0/13   train_loss = 0.186\n",
      "Epoch 135 Batch    5/13   train_loss = 0.165\n",
      "Epoch 135 Batch   10/13   train_loss = 0.169\n",
      "Epoch 136 Batch    2/13   train_loss = 0.170\n",
      "Epoch 136 Batch    7/13   train_loss = 0.157\n",
      "Epoch 136 Batch   12/13   train_loss = 0.189\n",
      "Epoch 137 Batch    4/13   train_loss = 0.179\n",
      "Epoch 137 Batch    9/13   train_loss = 0.178\n",
      "Epoch 138 Batch    1/13   train_loss = 0.170\n",
      "Epoch 138 Batch    6/13   train_loss = 0.158\n",
      "Epoch 138 Batch   11/13   train_loss = 0.177\n",
      "Epoch 139 Batch    3/13   train_loss = 0.168\n",
      "Epoch 139 Batch    8/13   train_loss = 0.165\n",
      "Epoch 140 Batch    0/13   train_loss = 0.177\n",
      "Epoch 140 Batch    5/13   train_loss = 0.161\n",
      "Epoch 140 Batch   10/13   train_loss = 0.165\n",
      "Epoch 141 Batch    2/13   train_loss = 0.166\n",
      "Epoch 141 Batch    7/13   train_loss = 0.153\n",
      "Epoch 141 Batch   12/13   train_loss = 0.183\n",
      "Epoch 142 Batch    4/13   train_loss = 0.175\n",
      "Epoch 142 Batch    9/13   train_loss = 0.175\n",
      "Epoch 143 Batch    1/13   train_loss = 0.165\n",
      "Epoch 143 Batch    6/13   train_loss = 0.155\n",
      "Epoch 143 Batch   11/13   train_loss = 0.173\n",
      "Epoch 144 Batch    3/13   train_loss = 0.164\n",
      "Epoch 144 Batch    8/13   train_loss = 0.162\n",
      "Epoch 145 Batch    0/13   train_loss = 0.169\n",
      "Epoch 145 Batch    5/13   train_loss = 0.158\n",
      "Epoch 145 Batch   10/13   train_loss = 0.161\n",
      "Epoch 146 Batch    2/13   train_loss = 0.162\n",
      "Epoch 146 Batch    7/13   train_loss = 0.150\n",
      "Epoch 146 Batch   12/13   train_loss = 0.179\n",
      "Epoch 147 Batch    4/13   train_loss = 0.172\n",
      "Epoch 147 Batch    9/13   train_loss = 0.172\n",
      "Epoch 148 Batch    1/13   train_loss = 0.161\n",
      "Epoch 148 Batch    6/13   train_loss = 0.152\n",
      "Epoch 148 Batch   11/13   train_loss = 0.170\n",
      "Epoch 149 Batch    3/13   train_loss = 0.160\n",
      "Epoch 149 Batch    8/13   train_loss = 0.159\n",
      "Epoch 150 Batch    0/13   train_loss = 0.163\n",
      "Epoch 150 Batch    5/13   train_loss = 0.155\n",
      "Epoch 150 Batch   10/13   train_loss = 0.159\n",
      "Epoch 151 Batch    2/13   train_loss = 0.160\n",
      "Epoch 151 Batch    7/13   train_loss = 0.147\n",
      "Epoch 151 Batch   12/13   train_loss = 0.175\n",
      "Epoch 152 Batch    4/13   train_loss = 0.169\n",
      "Epoch 152 Batch    9/13   train_loss = 0.169\n",
      "Epoch 153 Batch    1/13   train_loss = 0.158\n",
      "Epoch 153 Batch    6/13   train_loss = 0.149\n",
      "Epoch 153 Batch   11/13   train_loss = 0.167\n",
      "Epoch 154 Batch    3/13   train_loss = 0.158\n",
      "Epoch 154 Batch    8/13   train_loss = 0.157\n",
      "Epoch 155 Batch    0/13   train_loss = 0.158\n",
      "Epoch 155 Batch    5/13   train_loss = 0.153\n",
      "Epoch 155 Batch   10/13   train_loss = 0.156\n",
      "Epoch 156 Batch    2/13   train_loss = 0.157\n",
      "Epoch 156 Batch    7/13   train_loss = 0.145\n",
      "Epoch 156 Batch   12/13   train_loss = 0.171\n",
      "Epoch 157 Batch    4/13   train_loss = 0.167\n",
      "Epoch 157 Batch    9/13   train_loss = 0.167\n",
      "Epoch 158 Batch    1/13   train_loss = 0.155\n",
      "Epoch 158 Batch    6/13   train_loss = 0.147\n",
      "Epoch 158 Batch   11/13   train_loss = 0.164\n",
      "Epoch 159 Batch    3/13   train_loss = 0.155\n",
      "Epoch 159 Batch    8/13   train_loss = 0.155\n",
      "Epoch 160 Batch    0/13   train_loss = 0.154\n",
      "Epoch 160 Batch    5/13   train_loss = 0.151\n",
      "Epoch 160 Batch   10/13   train_loss = 0.154\n",
      "Epoch 161 Batch    2/13   train_loss = 0.155\n",
      "Epoch 161 Batch    7/13   train_loss = 0.143\n",
      "Epoch 161 Batch   12/13   train_loss = 0.168\n",
      "Epoch 162 Batch    4/13   train_loss = 0.165\n",
      "Epoch 162 Batch    9/13   train_loss = 0.165\n",
      "Epoch 163 Batch    1/13   train_loss = 0.152\n",
      "Epoch 163 Batch    6/13   train_loss = 0.145\n",
      "Epoch 163 Batch   11/13   train_loss = 0.162\n",
      "Epoch 164 Batch    3/13   train_loss = 0.153\n",
      "Epoch 164 Batch    8/13   train_loss = 0.154\n",
      "Epoch 165 Batch    0/13   train_loss = 0.150\n",
      "Epoch 165 Batch    5/13   train_loss = 0.149\n",
      "Epoch 165 Batch   10/13   train_loss = 0.153\n",
      "Epoch 166 Batch    2/13   train_loss = 0.153\n",
      "Epoch 166 Batch    7/13   train_loss = 0.142\n",
      "Epoch 166 Batch   12/13   train_loss = 0.166\n",
      "Epoch 167 Batch    4/13   train_loss = 0.163\n",
      "Epoch 167 Batch    9/13   train_loss = 0.164\n",
      "Epoch 168 Batch    1/13   train_loss = 0.150\n",
      "Epoch 168 Batch    6/13   train_loss = 0.144\n",
      "Epoch 168 Batch   11/13   train_loss = 0.160\n",
      "Epoch 169 Batch    3/13   train_loss = 0.152\n",
      "Epoch 169 Batch    8/13   train_loss = 0.152\n",
      "Epoch 170 Batch    0/13   train_loss = 0.147\n",
      "Epoch 170 Batch    5/13   train_loss = 0.148\n",
      "Epoch 170 Batch   10/13   train_loss = 0.151\n",
      "Epoch 171 Batch    2/13   train_loss = 0.152\n",
      "Epoch 171 Batch    7/13   train_loss = 0.140\n",
      "Epoch 171 Batch   12/13   train_loss = 0.164\n",
      "Epoch 172 Batch    4/13   train_loss = 0.162\n",
      "Epoch 172 Batch    9/13   train_loss = 0.162\n",
      "Epoch 173 Batch    1/13   train_loss = 0.149\n",
      "Epoch 173 Batch    6/13   train_loss = 0.142\n",
      "Epoch 173 Batch   11/13   train_loss = 0.159\n",
      "Epoch 174 Batch    3/13   train_loss = 0.150\n",
      "Epoch 174 Batch    8/13   train_loss = 0.151\n",
      "Epoch 175 Batch    0/13   train_loss = 0.145\n",
      "Epoch 175 Batch    5/13   train_loss = 0.147\n",
      "Epoch 175 Batch   10/13   train_loss = 0.150\n",
      "Epoch 176 Batch    2/13   train_loss = 0.150\n",
      "Epoch 176 Batch    7/13   train_loss = 0.139\n",
      "Epoch 176 Batch   12/13   train_loss = 0.162\n",
      "Epoch 177 Batch    4/13   train_loss = 0.160\n",
      "Epoch 177 Batch    9/13   train_loss = 0.161\n",
      "Epoch 178 Batch    1/13   train_loss = 0.147\n",
      "Epoch 178 Batch    6/13   train_loss = 0.142\n",
      "Epoch 178 Batch   11/13   train_loss = 0.158\n",
      "Epoch 179 Batch    3/13   train_loss = 0.149\n",
      "Epoch 179 Batch    8/13   train_loss = 0.150\n",
      "Epoch 180 Batch    0/13   train_loss = 0.143\n",
      "Epoch 180 Batch    5/13   train_loss = 0.146\n",
      "Epoch 180 Batch   10/13   train_loss = 0.149\n",
      "Epoch 181 Batch    2/13   train_loss = 0.149\n",
      "Epoch 181 Batch    7/13   train_loss = 0.138\n",
      "Epoch 181 Batch   12/13   train_loss = 0.160\n",
      "Epoch 182 Batch    4/13   train_loss = 0.159\n",
      "Epoch 182 Batch    9/13   train_loss = 0.160\n",
      "Epoch 183 Batch    1/13   train_loss = 0.146\n",
      "Epoch 183 Batch    6/13   train_loss = 0.140\n",
      "Epoch 183 Batch   11/13   train_loss = 0.157\n",
      "Epoch 184 Batch    3/13   train_loss = 0.148\n",
      "Epoch 184 Batch    8/13   train_loss = 0.149\n",
      "Epoch 185 Batch    0/13   train_loss = 0.141\n",
      "Epoch 185 Batch    5/13   train_loss = 0.145\n",
      "Epoch 185 Batch   10/13   train_loss = 0.148\n",
      "Epoch 186 Batch    2/13   train_loss = 0.148\n",
      "Epoch 186 Batch    7/13   train_loss = 0.137\n",
      "Epoch 186 Batch   12/13   train_loss = 0.159\n",
      "Epoch 187 Batch    4/13   train_loss = 0.159\n",
      "Epoch 187 Batch    9/13   train_loss = 0.159\n",
      "Epoch 188 Batch    1/13   train_loss = 0.145\n",
      "Epoch 188 Batch    6/13   train_loss = 0.140\n",
      "Epoch 188 Batch   11/13   train_loss = 0.155\n",
      "Epoch 189 Batch    3/13   train_loss = 0.147\n",
      "Epoch 189 Batch    8/13   train_loss = 0.149\n",
      "Epoch 190 Batch    0/13   train_loss = 0.140\n",
      "Epoch 190 Batch    5/13   train_loss = 0.144\n",
      "Epoch 190 Batch   10/13   train_loss = 0.147\n",
      "Epoch 191 Batch    2/13   train_loss = 0.148\n",
      "Epoch 191 Batch    7/13   train_loss = 0.137\n",
      "Epoch 191 Batch   12/13   train_loss = 0.158\n",
      "Epoch 192 Batch    4/13   train_loss = 0.158\n",
      "Epoch 192 Batch    9/13   train_loss = 0.158\n",
      "Epoch 193 Batch    1/13   train_loss = 0.144\n",
      "Epoch 193 Batch    6/13   train_loss = 0.139\n",
      "Epoch 193 Batch   11/13   train_loss = 0.155\n",
      "Epoch 194 Batch    3/13   train_loss = 0.146\n",
      "Epoch 194 Batch    8/13   train_loss = 0.148\n",
      "Epoch 195 Batch    0/13   train_loss = 0.139\n",
      "Epoch 195 Batch    5/13   train_loss = 0.143\n",
      "Epoch 195 Batch   10/13   train_loss = 0.146\n",
      "Epoch 196 Batch    2/13   train_loss = 0.147\n",
      "Epoch 196 Batch    7/13   train_loss = 0.136\n",
      "Epoch 196 Batch   12/13   train_loss = 0.157\n",
      "Epoch 197 Batch    4/13   train_loss = 0.157\n",
      "Epoch 197 Batch    9/13   train_loss = 0.158\n",
      "Epoch 198 Batch    1/13   train_loss = 0.143\n",
      "Epoch 198 Batch    6/13   train_loss = 0.139\n",
      "Epoch 198 Batch   11/13   train_loss = 0.154\n",
      "Epoch 199 Batch    3/13   train_loss = 0.146\n",
      "Epoch 199 Batch    8/13   train_loss = 0.147\n",
      "Model Trained and Saved\n"
     ]
    }
   ],
   "source": [
    "\"\"\"\n",
    "DON'T MODIFY ANYTHING IN THIS CELL\n",
    "\"\"\"\n",
    "batches = get_batches(int_text, batch_size, seq_length)\n",
    "\n",
    "with tf.Session(graph=train_graph) as sess:\n",
    "    sess.run(tf.global_variables_initializer())\n",
    "\n",
    "    for epoch_i in range(num_epochs):\n",
    "        state = sess.run(initial_state, {input_text: batches[0][0]})\n",
    "\n",
    "        for batch_i, (x, y) in enumerate(batches):\n",
    "            feed = {\n",
    "                input_text: x,\n",
    "                targets: y,\n",
    "                initial_state: state,\n",
    "                lr: learning_rate}\n",
    "            train_loss, state, _ = sess.run([cost, final_state, train_op], feed)\n",
    "\n",
    "            # Show every <show_every_n_batches> batches\n",
    "            if (epoch_i * len(batches) + batch_i) % show_every_n_batches == 0:\n",
    "                print('Epoch {:>3} Batch {:>4}/{}   train_loss = {:.3f}'.format(\n",
    "                    epoch_i,\n",
    "                    batch_i,\n",
    "                    len(batches),\n",
    "                    train_loss))\n",
    "\n",
    "    # Save Model\n",
    "    saver = tf.train.Saver()\n",
    "    saver.save(sess, save_dir)\n",
    "    print('Model Trained and Saved')"
   ]
  },
  {
   "cell_type": "markdown",
   "metadata": {
    "deletable": true,
    "editable": true
   },
   "source": [
    "## Save Parameters\n",
    "Save `seq_length` and `save_dir` for generating a new TV script."
   ]
  },
  {
   "cell_type": "code",
   "execution_count": 58,
   "metadata": {
    "collapsed": false,
    "deletable": true,
    "editable": true
   },
   "outputs": [],
   "source": [
    "\"\"\"\n",
    "DON'T MODIFY ANYTHING IN THIS CELL\n",
    "\"\"\"\n",
    "# Save parameters for checkpoint\n",
    "helper.save_params((seq_length, save_dir))"
   ]
  },
  {
   "cell_type": "markdown",
   "metadata": {
    "deletable": true,
    "editable": true
   },
   "source": [
    "# Checkpoint"
   ]
  },
  {
   "cell_type": "code",
   "execution_count": 59,
   "metadata": {
    "collapsed": false,
    "deletable": true,
    "editable": true
   },
   "outputs": [],
   "source": [
    "\"\"\"\n",
    "DON'T MODIFY ANYTHING IN THIS CELL\n",
    "\"\"\"\n",
    "import tensorflow as tf\n",
    "import numpy as np\n",
    "import helper\n",
    "import problem_unittests as tests\n",
    "\n",
    "_, vocab_to_int, int_to_vocab, token_dict = helper.load_preprocess()\n",
    "seq_length, load_dir = helper.load_params()"
   ]
  },
  {
   "cell_type": "markdown",
   "metadata": {
    "deletable": true,
    "editable": true
   },
   "source": [
    "## Implement Generate Functions\n",
    "### Get Tensors\n",
    "Get tensors from `loaded_graph` using the function [`get_tensor_by_name()`](https://www.tensorflow.org/api_docs/python/tf/Graph#get_tensor_by_name).  Get the tensors using the following names:\n",
    "- \"input:0\"\n",
    "- \"initial_state:0\"\n",
    "- \"final_state:0\"\n",
    "- \"probs:0\"\n",
    "\n",
    "Return the tensors in the following tuple `(InputTensor, InitialStateTensor, FinalStateTensor, ProbsTensor)` "
   ]
  },
  {
   "cell_type": "code",
   "execution_count": 60,
   "metadata": {
    "collapsed": false,
    "deletable": true,
    "editable": true
   },
   "outputs": [
    {
     "name": "stdout",
     "output_type": "stream",
     "text": [
      "Tests Passed\n"
     ]
    }
   ],
   "source": [
    "def get_tensors(loaded_graph):\n",
    "    \"\"\"\n",
    "    Get input, initial state, final state, and probabilities tensor from <loaded_graph>\n",
    "    :param loaded_graph: TensorFlow graph loaded from file\n",
    "    :return: Tuple (InputTensor, InitialStateTensor, FinalStateTensor, ProbsTensor)\n",
    "    \"\"\"\n",
    "    inputs = loaded_graph.get_tensor_by_name(\"input:0\")\n",
    "    initial_state = loaded_graph.get_tensor_by_name(\"initial_state:0\")\n",
    "    final_state = loaded_graph.get_tensor_by_name(\"final_state:0\")\n",
    "    probs = loaded_graph.get_tensor_by_name(\"probs:0\")\n",
    "    # TODO: Implement Function\n",
    "    return inputs, initial_state, final_state, probs\n",
    "\n",
    "\n",
    "\"\"\"\n",
    "DON'T MODIFY ANYTHING IN THIS CELL THAT IS BELOW THIS LINE\n",
    "\"\"\"\n",
    "tests.test_get_tensors(get_tensors)"
   ]
  },
  {
   "cell_type": "markdown",
   "metadata": {
    "deletable": true,
    "editable": true
   },
   "source": [
    "### Choose Word\n",
    "Implement the `pick_word()` function to select the next word using `probabilities`."
   ]
  },
  {
   "cell_type": "code",
   "execution_count": 61,
   "metadata": {
    "collapsed": false,
    "deletable": true,
    "editable": true
   },
   "outputs": [
    {
     "name": "stdout",
     "output_type": "stream",
     "text": [
      "Tests Passed\n"
     ]
    }
   ],
   "source": [
    "def pick_word(probabilities, int_to_vocab):\n",
    "    \"\"\"\n",
    "    Pick the next word in the generated text\n",
    "    :param probabilities: Probabilites of the next word\n",
    "    :param int_to_vocab: Dictionary of word ids as the keys and words as the values\n",
    "    :return: String of the predicted word\n",
    "    \"\"\"\n",
    "    p = np.squeeze(probabilities)\n",
    "    p[np.argsort(p)[:-5]] = 0\n",
    "    p = p / np.sum(p)\n",
    "    c = np.random.choice(len(int_to_vocab), 1, p=p)[0]\n",
    "    return int_to_vocab[c]\n",
    "\n",
    "\n",
    "\"\"\"\n",
    "DON'T MODIFY ANYTHING IN THIS CELL THAT IS BELOW THIS LINE\n",
    "\"\"\"\n",
    "tests.test_pick_word(pick_word)"
   ]
  },
  {
   "cell_type": "markdown",
   "metadata": {
    "deletable": true,
    "editable": true
   },
   "source": [
    "## Generate TV Script\n",
    "This will generate the TV script for you.  Set `gen_length` to the length of TV script you want to generate."
   ]
  },
  {
   "cell_type": "code",
   "execution_count": 62,
   "metadata": {
    "collapsed": false,
    "deletable": true,
    "editable": true
   },
   "outputs": [
    {
     "name": "stdout",
     "output_type": "stream",
     "text": [
      "moe_szyslak:(to self) santeria, you're the greatest!\n",
      "homer_simpson: barney, didn't you say you were gonna stop drinking?\n",
      "barney_gumble: homer, i'm do a great eighty-one your best of the power plant. there. that now right, the only one from duff from the bad bank. and now you have the cigarette for me is turn the bottom with and an clean my the game. there homer you this back a guy to your record is as clean as...(dropping character) screw it, i quit.\n",
      "duffman:(to duff girls) janette, cheryl, carl. we're we're hours., he's had do it, it's might hours. you think follow you.\n",
      "lenny_leonard: so i really not come here? or never me to trouble you.\n",
      "lenny_leonard: i was a hangin' for my kid thing, moe you get out?\n",
      "carl_carlson: oh, homer. there you gonna do a lot eighty-one the money, homer?\n",
      "homer_simpson: well, thought bubble marge said we said what you had to go.\n"
     ]
    }
   ],
   "source": [
    "gen_length = 200\n",
    "# homer_simpson, moe_szyslak, or Barney_Gumble\n",
    "prime_word = 'moe_szyslak'\n",
    "\n",
    "\"\"\"\n",
    "DON'T MODIFY ANYTHING IN THIS CELL THAT IS BELOW THIS LINE\n",
    "\"\"\"\n",
    "loaded_graph = tf.Graph()\n",
    "with tf.Session(graph=loaded_graph) as sess:\n",
    "    # Load saved model\n",
    "    loader = tf.train.import_meta_graph(load_dir + '.meta')\n",
    "    loader.restore(sess, load_dir)\n",
    "\n",
    "    # Get Tensors from loaded model\n",
    "    input_text, initial_state, final_state, probs = get_tensors(loaded_graph)\n",
    "\n",
    "    # Sentences generation setup\n",
    "    gen_sentences = [prime_word + ':']\n",
    "    prev_state = sess.run(initial_state, {input_text: np.array([[1]])})\n",
    "\n",
    "    # Generate sentences\n",
    "    for n in range(gen_length):\n",
    "        # Dynamic Input\n",
    "        dyn_input = [[vocab_to_int[word] for word in gen_sentences[-seq_length:]]]\n",
    "        dyn_seq_length = len(dyn_input[0])\n",
    "\n",
    "        # Get Prediction\n",
    "        probabilities, prev_state = sess.run(\n",
    "            [probs, final_state],\n",
    "            {input_text: dyn_input, initial_state: prev_state})\n",
    "        \n",
    "        pred_word = pick_word(probabilities[dyn_seq_length-1], int_to_vocab)\n",
    "\n",
    "        gen_sentences.append(pred_word)\n",
    "    \n",
    "    # Remove tokens\n",
    "    tv_script = ' '.join(gen_sentences)\n",
    "    for key, token in token_dict.items():\n",
    "        ending = ' ' if key in ['\\n', '(', '\"'] else ''\n",
    "        tv_script = tv_script.replace(' ' + token.lower(), key)\n",
    "    tv_script = tv_script.replace('\\n ', '\\n')\n",
    "    tv_script = tv_script.replace('( ', '(')\n",
    "        \n",
    "    print(tv_script)"
   ]
  },
  {
   "cell_type": "markdown",
   "metadata": {
    "deletable": true,
    "editable": true
   },
   "source": [
    "# The TV Script is Nonsensical\n",
    "It's ok if the TV script doesn't make any sense.  We trained on less than a megabyte of text.  In order to get good results, you'll have to use a smaller vocabulary or get more data.  Luckly there's more data!  As we mentioned in the begging of this project, this is a subset of [another dataset](https://www.kaggle.com/wcukierski/the-simpsons-by-the-data).  We didn't have you train on all the data, because that would take too long.  However, you are free to train your neural network on all the data.  After you complete the project, of course.\n",
    "# Submitting This Project\n",
    "When submitting this project, make sure to run all the cells before saving the notebook. Save the notebook file as \"dlnd_tv_script_generation.ipynb\" and save it as a HTML file under \"File\" -> \"Download as\". Include the \"helper.py\" and \"problem_unittests.py\" files in your submission."
   ]
  }
 ],
 "metadata": {
  "kernelspec": {
   "display_name": "Python 3",
   "language": "python",
   "name": "python3"
  },
  "language_info": {
   "codemirror_mode": {
    "name": "ipython",
    "version": 3
   },
   "file_extension": ".py",
   "mimetype": "text/x-python",
   "name": "python",
   "nbconvert_exporter": "python",
   "pygments_lexer": "ipython3",
   "version": "3.5.3"
  },
  "widgets": {
   "state": {},
   "version": "1.1.2"
  }
 },
 "nbformat": 4,
 "nbformat_minor": 0
}
